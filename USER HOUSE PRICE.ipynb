{
 "cells": [
  {
   "cell_type": "code",
   "execution_count": 1,
   "metadata": {},
   "outputs": [],
   "source": [
    "import pandas as pd\n",
    "import numpy as np\n",
    "import seaborn as sns\n",
    "import matplotlib.pyplot as plt"
   ]
  },
  {
   "cell_type": "code",
   "execution_count": 2,
   "metadata": {},
   "outputs": [],
   "source": [
    "df = pd.read_csv(\"https://raw.githubusercontent.com/dphi-official/Datasets/master/used_car_price/train_set_label.csv\")"
   ]
  },
  {
   "cell_type": "code",
   "execution_count": 3,
   "metadata": {},
   "outputs": [
    {
     "data": {
      "text/html": [
       "<div>\n",
       "<style scoped>\n",
       "    .dataframe tbody tr th:only-of-type {\n",
       "        vertical-align: middle;\n",
       "    }\n",
       "\n",
       "    .dataframe tbody tr th {\n",
       "        vertical-align: top;\n",
       "    }\n",
       "\n",
       "    .dataframe thead th {\n",
       "        text-align: right;\n",
       "    }\n",
       "</style>\n",
       "<table border=\"1\" class=\"dataframe\">\n",
       "  <thead>\n",
       "    <tr style=\"text-align: right;\">\n",
       "      <th></th>\n",
       "      <th>region</th>\n",
       "      <th>region_url</th>\n",
       "      <th>year</th>\n",
       "      <th>manufacturer</th>\n",
       "      <th>model_name</th>\n",
       "      <th>car_condition</th>\n",
       "      <th>#cylinders</th>\n",
       "      <th>fuel_type</th>\n",
       "      <th>odometer</th>\n",
       "      <th>title_status</th>\n",
       "      <th>...</th>\n",
       "      <th>size</th>\n",
       "      <th>car_type</th>\n",
       "      <th>car_color</th>\n",
       "      <th>image_url</th>\n",
       "      <th>car_description</th>\n",
       "      <th>county</th>\n",
       "      <th>state</th>\n",
       "      <th>latitude</th>\n",
       "      <th>longitude</th>\n",
       "      <th>price_of_car</th>\n",
       "    </tr>\n",
       "  </thead>\n",
       "  <tbody>\n",
       "    <tr>\n",
       "      <th>0</th>\n",
       "      <td>san antonio</td>\n",
       "      <td>https://sanantonio.craigslist.org</td>\n",
       "      <td>2018.0</td>\n",
       "      <td>honda</td>\n",
       "      <td>accord ex-l</td>\n",
       "      <td>NaN</td>\n",
       "      <td>NaN</td>\n",
       "      <td>gas</td>\n",
       "      <td>NaN</td>\n",
       "      <td>clean</td>\n",
       "      <td>...</td>\n",
       "      <td>NaN</td>\n",
       "      <td>NaN</td>\n",
       "      <td>NaN</td>\n",
       "      <td>https://images.craigslist.org/00W0W_jPnECYbxWm...</td>\n",
       "      <td>Price: $24,900 Miles: 31,269 Engine: 1.5L Turb...</td>\n",
       "      <td>NaN</td>\n",
       "      <td>tx</td>\n",
       "      <td>29.5407</td>\n",
       "      <td>-98.5521</td>\n",
       "      <td>24900</td>\n",
       "    </tr>\n",
       "    <tr>\n",
       "      <th>1</th>\n",
       "      <td>augusta</td>\n",
       "      <td>https://augusta.craigslist.org</td>\n",
       "      <td>2006.0</td>\n",
       "      <td>ford</td>\n",
       "      <td>f250 super duty diesel</td>\n",
       "      <td>excellent</td>\n",
       "      <td>NaN</td>\n",
       "      <td>diesel</td>\n",
       "      <td>169438.0</td>\n",
       "      <td>clean</td>\n",
       "      <td>...</td>\n",
       "      <td>full-size</td>\n",
       "      <td>truck</td>\n",
       "      <td>white</td>\n",
       "      <td>https://images.craigslist.org/00U0U_5ROtvUdu72...</td>\n",
       "      <td>2006 Ford F250 Lariat SuperDuty Crew Cab 4 doo...</td>\n",
       "      <td>NaN</td>\n",
       "      <td>ga</td>\n",
       "      <td>33.5161</td>\n",
       "      <td>-82.0785</td>\n",
       "      <td>0</td>\n",
       "    </tr>\n",
       "    <tr>\n",
       "      <th>2</th>\n",
       "      <td>hickory / lenoir</td>\n",
       "      <td>https://hickory.craigslist.org</td>\n",
       "      <td>NaN</td>\n",
       "      <td>NaN</td>\n",
       "      <td>NaN</td>\n",
       "      <td>NaN</td>\n",
       "      <td>NaN</td>\n",
       "      <td>NaN</td>\n",
       "      <td>NaN</td>\n",
       "      <td>NaN</td>\n",
       "      <td>...</td>\n",
       "      <td>NaN</td>\n",
       "      <td>NaN</td>\n",
       "      <td>NaN</td>\n",
       "      <td>NaN</td>\n",
       "      <td>NaN</td>\n",
       "      <td>NaN</td>\n",
       "      <td>nc</td>\n",
       "      <td>NaN</td>\n",
       "      <td>NaN</td>\n",
       "      <td>4500</td>\n",
       "    </tr>\n",
       "    <tr>\n",
       "      <th>3</th>\n",
       "      <td>fargo / moorhead</td>\n",
       "      <td>https://fargo.craigslist.org</td>\n",
       "      <td>NaN</td>\n",
       "      <td>NaN</td>\n",
       "      <td>NaN</td>\n",
       "      <td>NaN</td>\n",
       "      <td>NaN</td>\n",
       "      <td>NaN</td>\n",
       "      <td>NaN</td>\n",
       "      <td>NaN</td>\n",
       "      <td>...</td>\n",
       "      <td>NaN</td>\n",
       "      <td>NaN</td>\n",
       "      <td>NaN</td>\n",
       "      <td>NaN</td>\n",
       "      <td>NaN</td>\n",
       "      <td>NaN</td>\n",
       "      <td>mn</td>\n",
       "      <td>NaN</td>\n",
       "      <td>NaN</td>\n",
       "      <td>20000</td>\n",
       "    </tr>\n",
       "    <tr>\n",
       "      <th>4</th>\n",
       "      <td>los angeles</td>\n",
       "      <td>https://losangeles.craigslist.org</td>\n",
       "      <td>NaN</td>\n",
       "      <td>NaN</td>\n",
       "      <td>NaN</td>\n",
       "      <td>NaN</td>\n",
       "      <td>NaN</td>\n",
       "      <td>NaN</td>\n",
       "      <td>NaN</td>\n",
       "      <td>NaN</td>\n",
       "      <td>...</td>\n",
       "      <td>NaN</td>\n",
       "      <td>NaN</td>\n",
       "      <td>NaN</td>\n",
       "      <td>NaN</td>\n",
       "      <td>NaN</td>\n",
       "      <td>NaN</td>\n",
       "      <td>ca</td>\n",
       "      <td>NaN</td>\n",
       "      <td>NaN</td>\n",
       "      <td>0</td>\n",
       "    </tr>\n",
       "  </tbody>\n",
       "</table>\n",
       "<p>5 rows × 23 columns</p>\n",
       "</div>"
      ],
      "text/plain": [
       "             region                         region_url    year manufacturer  \\\n",
       "0       san antonio  https://sanantonio.craigslist.org  2018.0        honda   \n",
       "1           augusta     https://augusta.craigslist.org  2006.0         ford   \n",
       "2  hickory / lenoir     https://hickory.craigslist.org     NaN          NaN   \n",
       "3  fargo / moorhead       https://fargo.craigslist.org     NaN          NaN   \n",
       "4       los angeles  https://losangeles.craigslist.org     NaN          NaN   \n",
       "\n",
       "               model_name car_condition #cylinders fuel_type  odometer  \\\n",
       "0             accord ex-l           NaN        NaN       gas       NaN   \n",
       "1  f250 super duty diesel     excellent        NaN    diesel  169438.0   \n",
       "2                     NaN           NaN        NaN       NaN       NaN   \n",
       "3                     NaN           NaN        NaN       NaN       NaN   \n",
       "4                     NaN           NaN        NaN       NaN       NaN   \n",
       "\n",
       "  title_status  ...       size car_type car_color  \\\n",
       "0        clean  ...        NaN      NaN       NaN   \n",
       "1        clean  ...  full-size    truck     white   \n",
       "2          NaN  ...        NaN      NaN       NaN   \n",
       "3          NaN  ...        NaN      NaN       NaN   \n",
       "4          NaN  ...        NaN      NaN       NaN   \n",
       "\n",
       "                                           image_url  \\\n",
       "0  https://images.craigslist.org/00W0W_jPnECYbxWm...   \n",
       "1  https://images.craigslist.org/00U0U_5ROtvUdu72...   \n",
       "2                                                NaN   \n",
       "3                                                NaN   \n",
       "4                                                NaN   \n",
       "\n",
       "                                     car_description county state latitude  \\\n",
       "0  Price: $24,900 Miles: 31,269 Engine: 1.5L Turb...    NaN    tx  29.5407   \n",
       "1  2006 Ford F250 Lariat SuperDuty Crew Cab 4 doo...    NaN    ga  33.5161   \n",
       "2                                                NaN    NaN    nc      NaN   \n",
       "3                                                NaN    NaN    mn      NaN   \n",
       "4                                                NaN    NaN    ca      NaN   \n",
       "\n",
       "   longitude price_of_car  \n",
       "0   -98.5521        24900  \n",
       "1   -82.0785            0  \n",
       "2        NaN         4500  \n",
       "3        NaN        20000  \n",
       "4        NaN            0  \n",
       "\n",
       "[5 rows x 23 columns]"
      ]
     },
     "execution_count": 3,
     "metadata": {},
     "output_type": "execute_result"
    }
   ],
   "source": [
    "df.head()"
   ]
  },
  {
   "cell_type": "code",
   "execution_count": 178,
   "metadata": {
    "scrolled": true
   },
   "outputs": [
    {
     "data": {
      "text/plain": [
       "<AxesSubplot:>"
      ]
     },
     "execution_count": 178,
     "metadata": {},
     "output_type": "execute_result"
    },
    {
     "data": {
      "image/png": "[encoded data removed]",
      "text/plain": [
       "<Figure size 432x288 with 2 Axes>"
      ]
     },
     "metadata": {
      "needs_background": "light"
     },
     "output_type": "display_data"
    }
   ],
   "source": [
    "sns.heatmap(df.isnull())"
   ]
  },
  {
   "cell_type": "code",
   "execution_count": 179,
   "metadata": {},
   "outputs": [
    {
     "data": {
      "text/plain": [
       "(37500, 23)"
      ]
     },
     "execution_count": 179,
     "metadata": {},
     "output_type": "execute_result"
    }
   ],
   "source": [
    "df.shape"
   ]
  },
  {
   "cell_type": "code",
   "execution_count": 180,
   "metadata": {
    "scrolled": true
   },
   "outputs": [
    {
     "data": {
      "text/plain": [
       "region                 0\n",
       "region_url             0\n",
       "year               15975\n",
       "manufacturer       16896\n",
       "model_name         16174\n",
       "car_condition      26360\n",
       "#cylinders         24668\n",
       "fuel_type          16091\n",
       "odometer           19929\n",
       "title_status       16032\n",
       "transmission       15997\n",
       "vin                25480\n",
       "drive              22558\n",
       "size               30952\n",
       "car_type           21326\n",
       "car_color          23122\n",
       "image_url          15899\n",
       "car_description    15899\n",
       "county             37500\n",
       "state                  0\n",
       "latitude           16268\n",
       "longitude          16268\n",
       "price_of_car           0\n",
       "dtype: int64"
      ]
     },
     "execution_count": 180,
     "metadata": {},
     "output_type": "execute_result"
    }
   ],
   "source": [
    "df.isnull().sum()"
   ]
  },
  {
   "cell_type": "code",
   "execution_count": 181,
   "metadata": {},
   "outputs": [
    {
     "data": {
      "text/plain": [
       "[<matplotlib.lines.Line2D at 0x2033ef40288>]"
      ]
     },
     "execution_count": 181,
     "metadata": {},
     "output_type": "execute_result"
    },
    {
     "data": {
      "image/png": "[encoded data removed]",
      "text/plain": [
       "<Figure size 432x288 with 1 Axes>"
      ]
     },
     "metadata": {
      "needs_background": "light"
     },
     "output_type": "display_data"
    }
   ],
   "source": [
    "plt.plot(df['year'])"
   ]
  },
  {
   "cell_type": "code",
   "execution_count": 182,
   "metadata": {},
   "outputs": [],
   "source": [
    "df['year'].fillna(int(df['year'].mean()),inplace=True)"
   ]
  },
  {
   "cell_type": "code",
   "execution_count": 183,
   "metadata": {
    "scrolled": true
   },
   "outputs": [
    {
     "data": {
      "text/plain": [
       "excellent    5489\n",
       "good         3851\n",
       "like new     1252\n",
       "fair          393\n",
       "new           124\n",
       "salvage        31\n",
       "Name: car_condition, dtype: int64"
      ]
     },
     "execution_count": 183,
     "metadata": {},
     "output_type": "execute_result"
    }
   ],
   "source": [
    "df['car_condition'].value_counts()"
   ]
  },
  {
   "cell_type": "code",
   "execution_count": 184,
   "metadata": {},
   "outputs": [],
   "source": [
    "df['car_condition'].fillna(\"fair\",inplace=True)"
   ]
  },
  {
   "cell_type": "code",
   "execution_count": 185,
   "metadata": {},
   "outputs": [
    {
     "data": {
      "text/plain": [
       "4 cylinders     4637\n",
       "6 cylinders     4558\n",
       "8 cylinders     3391\n",
       "5 cylinders      119\n",
       "10 cylinders      43\n",
       "other             37\n",
       "3 cylinders       36\n",
       "12 cylinders      11\n",
       "Name: #cylinders, dtype: int64"
      ]
     },
     "execution_count": 185,
     "metadata": {},
     "output_type": "execute_result"
    }
   ],
   "source": [
    "df['#cylinders'].value_counts()"
   ]
  },
  {
   "cell_type": "code",
   "execution_count": 186,
   "metadata": {},
   "outputs": [],
   "source": [
    "df['#cylinders'].fillna(\"4 cylinders\",inplace=True)"
   ]
  },
  {
   "cell_type": "code",
   "execution_count": 187,
   "metadata": {},
   "outputs": [
    {
     "data": {
      "text/plain": [
       "gas         18793\n",
       "diesel       1633\n",
       "other         682\n",
       "hybrid        241\n",
       "electric       60\n",
       "Name: fuel_type, dtype: int64"
      ]
     },
     "execution_count": 187,
     "metadata": {},
     "output_type": "execute_result"
    }
   ],
   "source": [
    "df['fuel_type'].value_counts()"
   ]
  },
  {
   "cell_type": "code",
   "execution_count": 188,
   "metadata": {},
   "outputs": [],
   "source": [
    "df['fuel_type'].fillna(\"gas\",inplace=True)"
   ]
  },
  {
   "cell_type": "code",
   "execution_count": 189,
   "metadata": {},
   "outputs": [
    {
     "data": {
      "text/plain": [
       "0.0         148\n",
       "150000.0     48\n",
       "130000.0     46\n",
       "110000.0     41\n",
       "170000.0     38\n",
       "           ... \n",
       "70507.0       1\n",
       "2075.0        1\n",
       "35253.0       1\n",
       "21570.0       1\n",
       "133723.0      1\n",
       "Name: odometer, Length: 11952, dtype: int64"
      ]
     },
     "execution_count": 189,
     "metadata": {},
     "output_type": "execute_result"
    }
   ],
   "source": [
    "df['odometer'].value_counts()"
   ]
  },
  {
   "cell_type": "code",
   "execution_count": 190,
   "metadata": {},
   "outputs": [],
   "source": [
    "df['odometer'].fillna(df['odometer'].mean(),inplace=True)"
   ]
  },
  {
   "cell_type": "code",
   "execution_count": 191,
   "metadata": {},
   "outputs": [
    {
     "data": {
      "text/plain": [
       "clean         20699\n",
       "rebuilt         399\n",
       "salvage         214\n",
       "lien            103\n",
       "missing          42\n",
       "parts only       11\n",
       "Name: title_status, dtype: int64"
      ]
     },
     "execution_count": 191,
     "metadata": {},
     "output_type": "execute_result"
    }
   ],
   "source": [
    "df['title_status'].value_counts()"
   ]
  },
  {
   "cell_type": "code",
   "execution_count": 192,
   "metadata": {},
   "outputs": [],
   "source": [
    "df['title_status'].fillna(\"clean\",inplace=True)"
   ]
  },
  {
   "cell_type": "code",
   "execution_count": 193,
   "metadata": {},
   "outputs": [
    {
     "data": {
      "text/plain": [
       "automatic    19231\n",
       "manual        1557\n",
       "other          715\n",
       "Name: transmission, dtype: int64"
      ]
     },
     "execution_count": 193,
     "metadata": {},
     "output_type": "execute_result"
    }
   ],
   "source": [
    "df['transmission'].value_counts()"
   ]
  },
  {
   "cell_type": "code",
   "execution_count": 194,
   "metadata": {},
   "outputs": [],
   "source": [
    "df['transmission'].fillna(\"automatic\",inplace=True)"
   ]
  },
  {
   "cell_type": "code",
   "execution_count": 195,
   "metadata": {},
   "outputs": [
    {
     "data": {
      "text/plain": [
       "4wd    6280\n",
       "fwd    5966\n",
       "rwd    2696\n",
       "Name: drive, dtype: int64"
      ]
     },
     "execution_count": 195,
     "metadata": {},
     "output_type": "execute_result"
    }
   ],
   "source": [
    "df['drive'].value_counts()"
   ]
  },
  {
   "cell_type": "code",
   "execution_count": 196,
   "metadata": {},
   "outputs": [],
   "source": [
    "df['drive'].fillna(\"na\",inplace=True)"
   ]
  },
  {
   "cell_type": "code",
   "execution_count": 197,
   "metadata": {},
   "outputs": [
    {
     "data": {
      "text/plain": [
       "full-size      3306\n",
       "mid-size       1905\n",
       "compact        1140\n",
       "sub-compact     197\n",
       "Name: size, dtype: int64"
      ]
     },
     "execution_count": 197,
     "metadata": {},
     "output_type": "execute_result"
    }
   ],
   "source": [
    "df['size'].value_counts()"
   ]
  },
  {
   "cell_type": "code",
   "execution_count": 198,
   "metadata": {},
   "outputs": [],
   "source": [
    "df['size'].fillna(\"full-size\",inplace=True)"
   ]
  },
  {
   "cell_type": "code",
   "execution_count": 199,
   "metadata": {},
   "outputs": [
    {
     "data": {
      "text/plain": [
       "white     3813\n",
       "black     2954\n",
       "silver    2151\n",
       "blue      1388\n",
       "red       1380\n",
       "grey      1367\n",
       "custom     433\n",
       "green      351\n",
       "brown      281\n",
       "yellow     122\n",
       "orange      92\n",
       "purple      46\n",
       "Name: car_color, dtype: int64"
      ]
     },
     "execution_count": 199,
     "metadata": {},
     "output_type": "execute_result"
    }
   ],
   "source": [
    "df['car_color'].value_counts()"
   ]
  },
  {
   "cell_type": "code",
   "execution_count": 200,
   "metadata": {},
   "outputs": [],
   "source": [
    "df['car_color'].fillna(\"na\",inplace=True)"
   ]
  },
  {
   "cell_type": "code",
   "execution_count": 201,
   "metadata": {},
   "outputs": [
    {
     "data": {
      "text/plain": [
       "sedan          4367\n",
       "SUV            4263\n",
       "truck          1862\n",
       "pickup         1659\n",
       "coupe           906\n",
       "other           727\n",
       "hatchback       601\n",
       "wagon           556\n",
       "van             460\n",
       "convertible     389\n",
       "mini-van        326\n",
       "bus              32\n",
       "offroad          26\n",
       "Name: car_type, dtype: int64"
      ]
     },
     "execution_count": 201,
     "metadata": {},
     "output_type": "execute_result"
    }
   ],
   "source": [
    "df['car_type'].value_counts()"
   ]
  },
  {
   "cell_type": "code",
   "execution_count": 202,
   "metadata": {},
   "outputs": [],
   "source": [
    "df['car_type'].fillna(\"na\",inplace=True)"
   ]
  },
  {
   "cell_type": "code",
   "execution_count": 203,
   "metadata": {},
   "outputs": [],
   "source": [
    "df['image_url'].fillna(\"na\",inplace=True)"
   ]
  },
  {
   "cell_type": "code",
   "execution_count": 204,
   "metadata": {},
   "outputs": [
    {
     "data": {
      "text/plain": [
       "True"
      ]
     },
     "execution_count": 204,
     "metadata": {},
     "output_type": "execute_result"
    }
   ],
   "source": [
    "df['image_url'][3] == 'na'"
   ]
  },
  {
   "cell_type": "code",
   "execution_count": 205,
   "metadata": {},
   "outputs": [],
   "source": [
    "def img(x):\n",
    "    if x=='na':\n",
    "        return(0)\n",
    "    else:\n",
    "        return(1)\n",
    "    \n",
    "df['image_url'] = df['image_url'].apply(img)"
   ]
  },
  {
   "cell_type": "code",
   "execution_count": 206,
   "metadata": {},
   "outputs": [
    {
     "data": {
      "text/plain": [
       "1    21601\n",
       "0    15899\n",
       "Name: image_url, dtype: int64"
      ]
     },
     "execution_count": 206,
     "metadata": {},
     "output_type": "execute_result"
    }
   ],
   "source": [
    "df['image_url'].value_counts()"
   ]
  },
  {
   "cell_type": "code",
   "execution_count": 207,
   "metadata": {},
   "outputs": [
    {
     "data": {
      "text/plain": [
       "year            0.019060\n",
       "odometer       -0.026650\n",
       "image_url       0.007698\n",
       "county               NaN\n",
       "latitude       -0.011009\n",
       "longitude      -0.007337\n",
       "price_of_car    1.000000\n",
       "Name: price_of_car, dtype: float64"
      ]
     },
     "execution_count": 207,
     "metadata": {},
     "output_type": "execute_result"
    }
   ],
   "source": [
    "df.corr()['price_of_car']"
   ]
  },
  {
   "cell_type": "code",
   "execution_count": 208,
   "metadata": {
    "scrolled": true
   },
   "outputs": [
    {
     "data": {
      "text/plain": [
       "region                 0\n",
       "region_url             0\n",
       "year                   0\n",
       "manufacturer       16896\n",
       "model_name         16174\n",
       "car_condition          0\n",
       "#cylinders             0\n",
       "fuel_type              0\n",
       "odometer               0\n",
       "title_status           0\n",
       "transmission           0\n",
       "vin                25480\n",
       "drive                  0\n",
       "size                   0\n",
       "car_type               0\n",
       "car_color              0\n",
       "image_url              0\n",
       "car_description    15899\n",
       "county             37500\n",
       "state                  0\n",
       "latitude           16268\n",
       "longitude          16268\n",
       "price_of_car           0\n",
       "dtype: int64"
      ]
     },
     "execution_count": 208,
     "metadata": {},
     "output_type": "execute_result"
    }
   ],
   "source": [
    "df.isnull().sum()"
   ]
  },
  {
   "cell_type": "code",
   "execution_count": 209,
   "metadata": {},
   "outputs": [
    {
     "data": {
      "text/plain": [
       "'\\ncar_desc\\ncounty\\nvin\\nmanufacturer       \\nmodel_name\\nlat \\nlon\\n'"
      ]
     },
     "execution_count": 209,
     "metadata": {},
     "output_type": "execute_result"
    }
   ],
   "source": [
    "'''\n",
    "car_desc\n",
    "county\n",
    "vin\n",
    "manufacturer       \n",
    "model_name\n",
    "lat \n",
    "lon\n",
    "'''"
   ]
  },
  {
   "cell_type": "code",
   "execution_count": 210,
   "metadata": {},
   "outputs": [
    {
     "data": {
      "text/plain": [
       "Index(['region', 'region_url', 'year', 'manufacturer', 'model_name',\n",
       "       'car_condition', '#cylinders', 'fuel_type', 'odometer', 'title_status',\n",
       "       'transmission', 'vin', 'drive', 'size', 'car_type', 'car_color',\n",
       "       'image_url', 'car_description', 'county', 'state', 'latitude',\n",
       "       'longitude', 'price_of_car'],\n",
       "      dtype='object')"
      ]
     },
     "execution_count": 210,
     "metadata": {},
     "output_type": "execute_result"
    }
   ],
   "source": [
    "df.columns"
   ]
  },
  {
   "cell_type": "code",
   "execution_count": 273,
   "metadata": {
    "scrolled": true
   },
   "outputs": [],
   "source": [
    "new_df = df.drop(['region','region_url','car_description','county','vin','manufacturer','model_name','latitude','longitude'],axis=1)"
   ]
  },
  {
   "cell_type": "code",
   "execution_count": 274,
   "metadata": {},
   "outputs": [
    {
     "data": {
      "text/html": [
       "<div>\n",
       "<style scoped>\n",
       "    .dataframe tbody tr th:only-of-type {\n",
       "        vertical-align: middle;\n",
       "    }\n",
       "\n",
       "    .dataframe tbody tr th {\n",
       "        vertical-align: top;\n",
       "    }\n",
       "\n",
       "    .dataframe thead th {\n",
       "        text-align: right;\n",
       "    }\n",
       "</style>\n",
       "<table border=\"1\" class=\"dataframe\">\n",
       "  <thead>\n",
       "    <tr style=\"text-align: right;\">\n",
       "      <th></th>\n",
       "      <th>year</th>\n",
       "      <th>car_condition</th>\n",
       "      <th>#cylinders</th>\n",
       "      <th>fuel_type</th>\n",
       "      <th>odometer</th>\n",
       "      <th>title_status</th>\n",
       "      <th>transmission</th>\n",
       "      <th>drive</th>\n",
       "      <th>size</th>\n",
       "      <th>car_type</th>\n",
       "      <th>car_color</th>\n",
       "      <th>image_url</th>\n",
       "      <th>state</th>\n",
       "      <th>price_of_car</th>\n",
       "    </tr>\n",
       "  </thead>\n",
       "  <tbody>\n",
       "    <tr>\n",
       "      <th>0</th>\n",
       "      <td>2018.0</td>\n",
       "      <td>fair</td>\n",
       "      <td>4 cylinders</td>\n",
       "      <td>gas</td>\n",
       "      <td>97285.695692</td>\n",
       "      <td>clean</td>\n",
       "      <td>automatic</td>\n",
       "      <td>na</td>\n",
       "      <td>full-size</td>\n",
       "      <td>na</td>\n",
       "      <td>na</td>\n",
       "      <td>1</td>\n",
       "      <td>tx</td>\n",
       "      <td>24900</td>\n",
       "    </tr>\n",
       "    <tr>\n",
       "      <th>1</th>\n",
       "      <td>2006.0</td>\n",
       "      <td>excellent</td>\n",
       "      <td>4 cylinders</td>\n",
       "      <td>diesel</td>\n",
       "      <td>169438.000000</td>\n",
       "      <td>clean</td>\n",
       "      <td>automatic</td>\n",
       "      <td>rwd</td>\n",
       "      <td>full-size</td>\n",
       "      <td>truck</td>\n",
       "      <td>white</td>\n",
       "      <td>1</td>\n",
       "      <td>ga</td>\n",
       "      <td>0</td>\n",
       "    </tr>\n",
       "    <tr>\n",
       "      <th>2</th>\n",
       "      <td>2010.0</td>\n",
       "      <td>fair</td>\n",
       "      <td>4 cylinders</td>\n",
       "      <td>gas</td>\n",
       "      <td>97285.695692</td>\n",
       "      <td>clean</td>\n",
       "      <td>automatic</td>\n",
       "      <td>na</td>\n",
       "      <td>full-size</td>\n",
       "      <td>na</td>\n",
       "      <td>na</td>\n",
       "      <td>0</td>\n",
       "      <td>nc</td>\n",
       "      <td>4500</td>\n",
       "    </tr>\n",
       "    <tr>\n",
       "      <th>3</th>\n",
       "      <td>2010.0</td>\n",
       "      <td>fair</td>\n",
       "      <td>4 cylinders</td>\n",
       "      <td>gas</td>\n",
       "      <td>97285.695692</td>\n",
       "      <td>clean</td>\n",
       "      <td>automatic</td>\n",
       "      <td>na</td>\n",
       "      <td>full-size</td>\n",
       "      <td>na</td>\n",
       "      <td>na</td>\n",
       "      <td>0</td>\n",
       "      <td>mn</td>\n",
       "      <td>20000</td>\n",
       "    </tr>\n",
       "    <tr>\n",
       "      <th>4</th>\n",
       "      <td>2010.0</td>\n",
       "      <td>fair</td>\n",
       "      <td>4 cylinders</td>\n",
       "      <td>gas</td>\n",
       "      <td>97285.695692</td>\n",
       "      <td>clean</td>\n",
       "      <td>automatic</td>\n",
       "      <td>na</td>\n",
       "      <td>full-size</td>\n",
       "      <td>na</td>\n",
       "      <td>na</td>\n",
       "      <td>0</td>\n",
       "      <td>ca</td>\n",
       "      <td>0</td>\n",
       "    </tr>\n",
       "  </tbody>\n",
       "</table>\n",
       "</div>"
      ],
      "text/plain": [
       "     year car_condition   #cylinders fuel_type       odometer title_status  \\\n",
       "0  2018.0          fair  4 cylinders       gas   97285.695692        clean   \n",
       "1  2006.0     excellent  4 cylinders    diesel  169438.000000        clean   \n",
       "2  2010.0          fair  4 cylinders       gas   97285.695692        clean   \n",
       "3  2010.0          fair  4 cylinders       gas   97285.695692        clean   \n",
       "4  2010.0          fair  4 cylinders       gas   97285.695692        clean   \n",
       "\n",
       "  transmission drive       size car_type car_color  image_url state  \\\n",
       "0    automatic    na  full-size       na        na          1    tx   \n",
       "1    automatic   rwd  full-size    truck     white          1    ga   \n",
       "2    automatic    na  full-size       na        na          0    nc   \n",
       "3    automatic    na  full-size       na        na          0    mn   \n",
       "4    automatic    na  full-size       na        na          0    ca   \n",
       "\n",
       "   price_of_car  \n",
       "0         24900  \n",
       "1             0  \n",
       "2          4500  \n",
       "3         20000  \n",
       "4             0  "
      ]
     },
     "execution_count": 274,
     "metadata": {},
     "output_type": "execute_result"
    }
   ],
   "source": [
    "new_df.head()"
   ]
  },
  {
   "cell_type": "code",
   "execution_count": 275,
   "metadata": {},
   "outputs": [],
   "source": [
    "d = []\n",
    "d.append(pd.get_dummies(df['car_condition'],drop_first=True))\n",
    "d.append(pd.get_dummies(df['#cylinders'],drop_first=True))\n",
    "d.append(pd.get_dummies(df['fuel_type'],drop_first=True))\n",
    "d.append(pd.get_dummies(df['title_status'],drop_first=True))\n",
    "d.append(pd.get_dummies(df['transmission'],drop_first=True))\n",
    "d.append(pd.get_dummies(df['drive'],drop_first=True))\n",
    "d.append(pd.get_dummies(df['size'],drop_first=True))\n",
    "d.append(pd.get_dummies(df['state'],drop_first=True))\n",
    "d.append(pd.get_dummies(df['car_type'],drop_first=True))\n",
    "d.append(pd.get_dummies(df['car_color'],drop_first=True))"
   ]
  },
  {
   "cell_type": "code",
   "execution_count": 276,
   "metadata": {},
   "outputs": [],
   "source": [
    "new_df = new_df.drop(['car_condition','#cylinders','fuel_type','title_status','transmission','drive','size','state','car_type','car_color'],axis=1)"
   ]
  },
  {
   "cell_type": "code",
   "execution_count": 277,
   "metadata": {},
   "outputs": [],
   "source": [
    "f_df = pd.concat( [new_df,d[0],d[1],d[2],d[3],d[4],d[5],d[6],d[7],d[8],d[9]],axis=1)"
   ]
  },
  {
   "cell_type": "code",
   "execution_count": 278,
   "metadata": {},
   "outputs": [],
   "source": [
    "from sklearn.model_selection import train_test_split"
   ]
  },
  {
   "cell_type": "code",
   "execution_count": 279,
   "metadata": {},
   "outputs": [],
   "source": [
    "X = f_df.drop('price_of_car',axis=1)\n",
    "y = f_df['price_of_car']"
   ]
  },
  {
   "cell_type": "code",
   "execution_count": 280,
   "metadata": {},
   "outputs": [],
   "source": [
    "X_train, X_test, y_train, y_test = train_test_split(X, y, test_size=0.33)"
   ]
  },
  {
   "cell_type": "code",
   "execution_count": 281,
   "metadata": {},
   "outputs": [],
   "source": [
    "from sklearn.ensemble import RandomForestRegressor"
   ]
  },
  {
   "cell_type": "code",
   "execution_count": 282,
   "metadata": {},
   "outputs": [
    {
     "name": "stdout",
     "output_type": "stream",
     "text": [
      "<class 'pandas.core.frame.DataFrame'>\n",
      "RangeIndex: 37500 entries, 0 to 37499\n",
      "Data columns (total 95 columns):\n",
      " #   Column        Non-Null Count  Dtype  \n",
      "---  ------        --------------  -----  \n",
      " 0   year          37500 non-null  float64\n",
      " 1   odometer      37500 non-null  float64\n",
      " 2   image_url     37500 non-null  int64  \n",
      " 3   price_of_car  37500 non-null  int64  \n",
      " 4   fair          37500 non-null  uint8  \n",
      " 5   good          37500 non-null  uint8  \n",
      " 6   like new      37500 non-null  uint8  \n",
      " 7   new           37500 non-null  uint8  \n",
      " 8   salvage       37500 non-null  uint8  \n",
      " 9   12 cylinders  37500 non-null  uint8  \n",
      " 10  3 cylinders   37500 non-null  uint8  \n",
      " 11  4 cylinders   37500 non-null  uint8  \n",
      " 12  5 cylinders   37500 non-null  uint8  \n",
      " 13  6 cylinders   37500 non-null  uint8  \n",
      " 14  8 cylinders   37500 non-null  uint8  \n",
      " 15  other         37500 non-null  uint8  \n",
      " 16  electric      37500 non-null  uint8  \n",
      " 17  gas           37500 non-null  uint8  \n",
      " 18  hybrid        37500 non-null  uint8  \n",
      " 19  other         37500 non-null  uint8  \n",
      " 20  lien          37500 non-null  uint8  \n",
      " 21  missing       37500 non-null  uint8  \n",
      " 22  parts only    37500 non-null  uint8  \n",
      " 23  rebuilt       37500 non-null  uint8  \n",
      " 24  salvage       37500 non-null  uint8  \n",
      " 25  manual        37500 non-null  uint8  \n",
      " 26  other         37500 non-null  uint8  \n",
      " 27  fwd           37500 non-null  uint8  \n",
      " 28  na            37500 non-null  uint8  \n",
      " 29  rwd           37500 non-null  uint8  \n",
      " 30  full-size     37500 non-null  uint8  \n",
      " 31  mid-size      37500 non-null  uint8  \n",
      " 32  sub-compact   37500 non-null  uint8  \n",
      " 33  al            37500 non-null  uint8  \n",
      " 34  ar            37500 non-null  uint8  \n",
      " 35  az            37500 non-null  uint8  \n",
      " 36  ca            37500 non-null  uint8  \n",
      " 37  ct            37500 non-null  uint8  \n",
      " 38  dc            37500 non-null  uint8  \n",
      " 39  de            37500 non-null  uint8  \n",
      " 40  fl            37500 non-null  uint8  \n",
      " 41  ga            37500 non-null  uint8  \n",
      " 42  ia            37500 non-null  uint8  \n",
      " 43  ks            37500 non-null  uint8  \n",
      " 44  ky            37500 non-null  uint8  \n",
      " 45  la            37500 non-null  uint8  \n",
      " 46  ma            37500 non-null  uint8  \n",
      " 47  me            37500 non-null  uint8  \n",
      " 48  mi            37500 non-null  uint8  \n",
      " 49  mn            37500 non-null  uint8  \n",
      " 50  mo            37500 non-null  uint8  \n",
      " 51  ms            37500 non-null  uint8  \n",
      " 52  mt            37500 non-null  uint8  \n",
      " 53  nc            37500 non-null  uint8  \n",
      " 54  nm            37500 non-null  uint8  \n",
      " 55  nv            37500 non-null  uint8  \n",
      " 56  ny            37500 non-null  uint8  \n",
      " 57  oh            37500 non-null  uint8  \n",
      " 58  ok            37500 non-null  uint8  \n",
      " 59  or            37500 non-null  uint8  \n",
      " 60  pa            37500 non-null  uint8  \n",
      " 61  tn            37500 non-null  uint8  \n",
      " 62  tx            37500 non-null  uint8  \n",
      " 63  ut            37500 non-null  uint8  \n",
      " 64  va            37500 non-null  uint8  \n",
      " 65  vt            37500 non-null  uint8  \n",
      " 66  wa            37500 non-null  uint8  \n",
      " 67  wi            37500 non-null  uint8  \n",
      " 68  wv            37500 non-null  uint8  \n",
      " 69  wy            37500 non-null  uint8  \n",
      " 70  bus           37500 non-null  uint8  \n",
      " 71  convertible   37500 non-null  uint8  \n",
      " 72  coupe         37500 non-null  uint8  \n",
      " 73  hatchback     37500 non-null  uint8  \n",
      " 74  mini-van      37500 non-null  uint8  \n",
      " 75  na            37500 non-null  uint8  \n",
      " 76  offroad       37500 non-null  uint8  \n",
      " 77  other         37500 non-null  uint8  \n",
      " 78  pickup        37500 non-null  uint8  \n",
      " 79  sedan         37500 non-null  uint8  \n",
      " 80  truck         37500 non-null  uint8  \n",
      " 81  van           37500 non-null  uint8  \n",
      " 82  wagon         37500 non-null  uint8  \n",
      " 83  blue          37500 non-null  uint8  \n",
      " 84  brown         37500 non-null  uint8  \n",
      " 85  custom        37500 non-null  uint8  \n",
      " 86  green         37500 non-null  uint8  \n",
      " 87  grey          37500 non-null  uint8  \n",
      " 88  na            37500 non-null  uint8  \n",
      " 89  orange        37500 non-null  uint8  \n",
      " 90  purple        37500 non-null  uint8  \n",
      " 91  red           37500 non-null  uint8  \n",
      " 92  silver        37500 non-null  uint8  \n",
      " 93  white         37500 non-null  uint8  \n",
      " 94  yellow        37500 non-null  uint8  \n",
      "dtypes: float64(2), int64(2), uint8(91)\n",
      "memory usage: 4.4 MB\n"
     ]
    }
   ],
   "source": [
    "f_df.info()"
   ]
  },
  {
   "cell_type": "code",
   "execution_count": 283,
   "metadata": {},
   "outputs": [],
   "source": [
    "model = RandomForestRegressor(100)"
   ]
  },
  {
   "cell_type": "code",
   "execution_count": 284,
   "metadata": {},
   "outputs": [
    {
     "data": {
      "text/plain": [
       "RandomForestRegressor()"
      ]
     },
     "execution_count": 284,
     "metadata": {},
     "output_type": "execute_result"
    }
   ],
   "source": [
    "model.fit(X_train,y_train)"
   ]
  },
  {
   "cell_type": "code",
   "execution_count": 285,
   "metadata": {},
   "outputs": [],
   "source": [
    "pred = model.predict(X_test)"
   ]
  },
  {
   "cell_type": "code",
   "execution_count": 286,
   "metadata": {},
   "outputs": [],
   "source": [
    "from sklearn.metrics import mean_absolute_error"
   ]
  },
  {
   "cell_type": "code",
   "execution_count": 287,
   "metadata": {},
   "outputs": [
    {
     "name": "stdout",
     "output_type": "stream",
     "text": [
      "97.88303008561978\n"
     ]
    }
   ],
   "source": [
    "print(pow(mean_absolute_error(y_test,pred),0.5))"
   ]
  },
  {
   "cell_type": "code",
   "execution_count": 288,
   "metadata": {},
   "outputs": [
    {
     "data": {
      "text/plain": [
       "16618    10995\n",
       "1075     28895\n",
       "27082    36988\n",
       "25151    18500\n",
       "26216    23995\n",
       "         ...  \n",
       "12541     7700\n",
       "9760     27590\n",
       "1752      5500\n",
       "652      16950\n",
       "28277     8998\n",
       "Name: price_of_car, Length: 12375, dtype: int64"
      ]
     },
     "execution_count": 288,
     "metadata": {},
     "output_type": "execute_result"
    }
   ],
   "source": [
    "y_test"
   ]
  },
  {
   "cell_type": "code",
   "execution_count": 289,
   "metadata": {},
   "outputs": [
    {
     "data": {
      "text/plain": [
       "array([ 6224.06666667, 29759.32      , 15095.98421766, ...,\n",
       "        6413.4       , 15481.32      , 17895.57799655])"
      ]
     },
     "execution_count": 289,
     "metadata": {},
     "output_type": "execute_result"
    }
   ],
   "source": [
    "pred"
   ]
  },
  {
   "cell_type": "code",
   "execution_count": 290,
   "metadata": {},
   "outputs": [
    {
     "data": {
      "text/plain": [
       "<AxesSubplot:xlabel='price_of_car'>"
      ]
     },
     "execution_count": 290,
     "metadata": {},
     "output_type": "execute_result"
    },
    {
     "data": {
      "image/png": "[encoded data removed]",
      "text/plain": [
       "<Figure size 432x288 with 1 Axes>"
      ]
     },
     "metadata": {
      "needs_background": "light"
     },
     "output_type": "display_data"
    }
   ],
   "source": [
    "sns.lineplot(x=y_test,y=pred)"
   ]
  },
  {
   "cell_type": "code",
   "execution_count": 298,
   "metadata": {},
   "outputs": [
    {
     "data": {
      "text/plain": [
       "<matplotlib.collections.PathCollection at 0x2033f162508>"
      ]
     },
     "execution_count": 298,
     "metadata": {},
     "output_type": "execute_result"
    },
    {
     "data": {
      "image/png": "[encoded data removed]",
      "text/plain": [
       "<Figure size 432x288 with 1 Axes>"
      ]
     },
     "metadata": {
      "needs_background": "light"
     },
     "output_type": "display_data"
    }
   ],
   "source": [
    "plt.scatter(y_test,pred )"
   ]
  },
  {
   "cell_type": "code",
   "execution_count": 299,
   "metadata": {},
   "outputs": [],
   "source": [
    "test_data = pd.read_csv('https://raw.githubusercontent.com/dphi-official/Datasets/master/used_car_price/test_set_label.csv')"
   ]
  },
  {
   "cell_type": "code",
   "execution_count": 300,
   "metadata": {},
   "outputs": [],
   "source": [
    "df = test_data"
   ]
  },
  {
   "cell_type": "code",
   "execution_count": null,
   "metadata": {},
   "outputs": [],
   "source": []
  },
  {
   "cell_type": "code",
   "execution_count": 301,
   "metadata": {},
   "outputs": [],
   "source": [
    "df['year'].fillna(int(df['year'].mean()),inplace=True)"
   ]
  },
  {
   "cell_type": "code",
   "execution_count": 302,
   "metadata": {
    "scrolled": true
   },
   "outputs": [
    {
     "data": {
      "text/plain": [
       "excellent    1858\n",
       "good         1329\n",
       "like new      438\n",
       "fair          158\n",
       "new            32\n",
       "salvage        11\n",
       "Name: car_condition, dtype: int64"
      ]
     },
     "execution_count": 302,
     "metadata": {},
     "output_type": "execute_result"
    }
   ],
   "source": [
    "df['car_condition'].value_counts()"
   ]
  },
  {
   "cell_type": "code",
   "execution_count": 303,
   "metadata": {},
   "outputs": [],
   "source": [
    "df['car_condition'].fillna(\"fair\",inplace=True)"
   ]
  },
  {
   "cell_type": "code",
   "execution_count": 304,
   "metadata": {},
   "outputs": [
    {
     "data": {
      "text/plain": [
       "4 cylinders     1602\n",
       "6 cylinders     1494\n",
       "8 cylinders     1179\n",
       "5 cylinders       38\n",
       "10 cylinders      17\n",
       "3 cylinders       11\n",
       "other             11\n",
       "12 cylinders       4\n",
       "Name: #cylinders, dtype: int64"
      ]
     },
     "execution_count": 304,
     "metadata": {},
     "output_type": "execute_result"
    }
   ],
   "source": [
    "df['#cylinders'].value_counts()"
   ]
  },
  {
   "cell_type": "code",
   "execution_count": 305,
   "metadata": {},
   "outputs": [],
   "source": [
    "df['#cylinders'].fillna(\"4 cylinders\",inplace=True)"
   ]
  },
  {
   "cell_type": "code",
   "execution_count": 306,
   "metadata": {},
   "outputs": [
    {
     "data": {
      "text/plain": [
       "gas         6386\n",
       "diesel       535\n",
       "other        264\n",
       "hybrid        86\n",
       "electric      15\n",
       "Name: fuel_type, dtype: int64"
      ]
     },
     "execution_count": 306,
     "metadata": {},
     "output_type": "execute_result"
    }
   ],
   "source": [
    "df['fuel_type'].value_counts()"
   ]
  },
  {
   "cell_type": "code",
   "execution_count": 307,
   "metadata": {},
   "outputs": [],
   "source": [
    "df['fuel_type'].fillna(\"gas\",inplace=True)"
   ]
  },
  {
   "cell_type": "code",
   "execution_count": 308,
   "metadata": {},
   "outputs": [
    {
     "data": {
      "text/plain": [
       "0.0          51\n",
       "150000.0     17\n",
       "170000.0     15\n",
       "1.0          15\n",
       "110000.0     15\n",
       "             ..\n",
       "52338.0       1\n",
       "1430000.0     1\n",
       "95209.0       1\n",
       "35471.0       1\n",
       "122.0         1\n",
       "Name: odometer, Length: 4709, dtype: int64"
      ]
     },
     "execution_count": 308,
     "metadata": {},
     "output_type": "execute_result"
    }
   ],
   "source": [
    "df['odometer'].value_counts()"
   ]
  },
  {
   "cell_type": "code",
   "execution_count": 309,
   "metadata": {},
   "outputs": [],
   "source": [
    "df['odometer'].fillna(df['odometer'].mean(),inplace=True)"
   ]
  },
  {
   "cell_type": "code",
   "execution_count": 310,
   "metadata": {},
   "outputs": [
    {
     "data": {
      "text/plain": [
       "clean         7046\n",
       "rebuilt        145\n",
       "salvage         60\n",
       "lien            39\n",
       "missing         16\n",
       "parts only       3\n",
       "Name: title_status, dtype: int64"
      ]
     },
     "execution_count": 310,
     "metadata": {},
     "output_type": "execute_result"
    }
   ],
   "source": [
    "df['title_status'].value_counts()"
   ]
  },
  {
   "cell_type": "code",
   "execution_count": 311,
   "metadata": {},
   "outputs": [],
   "source": [
    "df['title_status'].fillna(\"clean\",inplace=True)"
   ]
  },
  {
   "cell_type": "code",
   "execution_count": 312,
   "metadata": {},
   "outputs": [
    {
     "data": {
      "text/plain": [
       "automatic    6554\n",
       "manual        513\n",
       "other         260\n",
       "Name: transmission, dtype: int64"
      ]
     },
     "execution_count": 312,
     "metadata": {},
     "output_type": "execute_result"
    }
   ],
   "source": [
    "df['transmission'].value_counts()"
   ]
  },
  {
   "cell_type": "code",
   "execution_count": 313,
   "metadata": {},
   "outputs": [],
   "source": [
    "df['transmission'].fillna(\"automatic\",inplace=True)"
   ]
  },
  {
   "cell_type": "code",
   "execution_count": 314,
   "metadata": {},
   "outputs": [
    {
     "data": {
      "text/plain": [
       "4wd    2194\n",
       "fwd    2043\n",
       "rwd     926\n",
       "Name: drive, dtype: int64"
      ]
     },
     "execution_count": 314,
     "metadata": {},
     "output_type": "execute_result"
    }
   ],
   "source": [
    "df['drive'].value_counts()"
   ]
  },
  {
   "cell_type": "code",
   "execution_count": 315,
   "metadata": {},
   "outputs": [],
   "source": [
    "df['drive'].fillna(\"na\",inplace=True)"
   ]
  },
  {
   "cell_type": "code",
   "execution_count": 316,
   "metadata": {},
   "outputs": [
    {
     "data": {
      "text/plain": [
       "full-size      1149\n",
       "mid-size        609\n",
       "compact         401\n",
       "sub-compact      67\n",
       "Name: size, dtype: int64"
      ]
     },
     "execution_count": 316,
     "metadata": {},
     "output_type": "execute_result"
    }
   ],
   "source": [
    "df['size'].value_counts()"
   ]
  },
  {
   "cell_type": "code",
   "execution_count": 317,
   "metadata": {},
   "outputs": [],
   "source": [
    "df['size'].fillna(\"full-size\",inplace=True)"
   ]
  },
  {
   "cell_type": "code",
   "execution_count": 318,
   "metadata": {},
   "outputs": [
    {
     "data": {
      "text/plain": [
       "white     1258\n",
       "black     1006\n",
       "silver     729\n",
       "blue       488\n",
       "grey       467\n",
       "red        450\n",
       "custom     141\n",
       "green      139\n",
       "brown       97\n",
       "yellow      39\n",
       "orange      35\n",
       "purple      16\n",
       "Name: car_color, dtype: int64"
      ]
     },
     "execution_count": 318,
     "metadata": {},
     "output_type": "execute_result"
    }
   ],
   "source": [
    "df['car_color'].value_counts()"
   ]
  },
  {
   "cell_type": "code",
   "execution_count": 319,
   "metadata": {},
   "outputs": [],
   "source": [
    "df['car_color'].fillna(\"na\",inplace=True)"
   ]
  },
  {
   "cell_type": "code",
   "execution_count": 320,
   "metadata": {},
   "outputs": [
    {
     "data": {
      "text/plain": [
       "sedan          1518\n",
       "SUV            1462\n",
       "truck           612\n",
       "pickup          552\n",
       "coupe           298\n",
       "other           215\n",
       "wagon           208\n",
       "hatchback       196\n",
       "van             155\n",
       "convertible     130\n",
       "mini-van        118\n",
       "offroad          15\n",
       "bus               4\n",
       "Name: car_type, dtype: int64"
      ]
     },
     "execution_count": 320,
     "metadata": {},
     "output_type": "execute_result"
    }
   ],
   "source": [
    "df['car_type'].value_counts()"
   ]
  },
  {
   "cell_type": "code",
   "execution_count": 321,
   "metadata": {},
   "outputs": [],
   "source": [
    "df['car_type'].fillna(\"na\",inplace=True)"
   ]
  },
  {
   "cell_type": "code",
   "execution_count": 322,
   "metadata": {},
   "outputs": [],
   "source": [
    "df['image_url'].fillna(\"na\",inplace=True)"
   ]
  },
  {
   "cell_type": "code",
   "execution_count": 323,
   "metadata": {},
   "outputs": [
    {
     "data": {
      "text/plain": [
       "True"
      ]
     },
     "execution_count": 323,
     "metadata": {},
     "output_type": "execute_result"
    }
   ],
   "source": [
    "df['image_url'][3] == 'na'"
   ]
  },
  {
   "cell_type": "code",
   "execution_count": 324,
   "metadata": {},
   "outputs": [],
   "source": [
    "def img(x):\n",
    "    if x=='na':\n",
    "        return(0)\n",
    "    else:\n",
    "        return(1)\n",
    "    \n",
    "df['image_url'] = df['image_url'].apply(img)"
   ]
  },
  {
   "cell_type": "code",
   "execution_count": 325,
   "metadata": {},
   "outputs": [
    {
     "data": {
      "text/plain": [
       "1    7358\n",
       "0    5142\n",
       "Name: image_url, dtype: int64"
      ]
     },
     "execution_count": 325,
     "metadata": {},
     "output_type": "execute_result"
    }
   ],
   "source": [
    "df['image_url'].value_counts()"
   ]
  },
  {
   "cell_type": "code",
   "execution_count": 327,
   "metadata": {
    "scrolled": true
   },
   "outputs": [
    {
     "data": {
      "text/plain": [
       "region                 0\n",
       "region_url             0\n",
       "year                   0\n",
       "manufacturer        5485\n",
       "model_name          5240\n",
       "car_condition          0\n",
       "#cylinders             0\n",
       "fuel_type              0\n",
       "odometer               0\n",
       "title_status           0\n",
       "transmission           0\n",
       "vin                 8367\n",
       "drive                  0\n",
       "size                   0\n",
       "car_type               0\n",
       "car_color              0\n",
       "image_url              0\n",
       "car_description     5142\n",
       "county             12500\n",
       "state                  0\n",
       "latitude            5253\n",
       "longitude           5253\n",
       "dtype: int64"
      ]
     },
     "execution_count": 327,
     "metadata": {},
     "output_type": "execute_result"
    }
   ],
   "source": [
    "df.isnull().sum()"
   ]
  },
  {
   "cell_type": "code",
   "execution_count": null,
   "metadata": {},
   "outputs": [],
   "source": []
  },
  {
   "cell_type": "code",
   "execution_count": 328,
   "metadata": {
    "scrolled": true
   },
   "outputs": [],
   "source": [
    "new_df = df.drop(['region','region_url','car_description','county','vin','manufacturer','model_name','latitude','longitude'],axis=1)"
   ]
  },
  {
   "cell_type": "code",
   "execution_count": 329,
   "metadata": {},
   "outputs": [
    {
     "data": {
      "text/html": [
       "<div>\n",
       "<style scoped>\n",
       "    .dataframe tbody tr th:only-of-type {\n",
       "        vertical-align: middle;\n",
       "    }\n",
       "\n",
       "    .dataframe tbody tr th {\n",
       "        vertical-align: top;\n",
       "    }\n",
       "\n",
       "    .dataframe thead th {\n",
       "        text-align: right;\n",
       "    }\n",
       "</style>\n",
       "<table border=\"1\" class=\"dataframe\">\n",
       "  <thead>\n",
       "    <tr style=\"text-align: right;\">\n",
       "      <th></th>\n",
       "      <th>year</th>\n",
       "      <th>car_condition</th>\n",
       "      <th>#cylinders</th>\n",
       "      <th>fuel_type</th>\n",
       "      <th>odometer</th>\n",
       "      <th>title_status</th>\n",
       "      <th>transmission</th>\n",
       "      <th>drive</th>\n",
       "      <th>size</th>\n",
       "      <th>car_type</th>\n",
       "      <th>car_color</th>\n",
       "      <th>image_url</th>\n",
       "      <th>state</th>\n",
       "    </tr>\n",
       "  </thead>\n",
       "  <tbody>\n",
       "    <tr>\n",
       "      <th>0</th>\n",
       "      <td>2018.0</td>\n",
       "      <td>fair</td>\n",
       "      <td>4 cylinders</td>\n",
       "      <td>gas</td>\n",
       "      <td>44721.000000</td>\n",
       "      <td>clean</td>\n",
       "      <td>automatic</td>\n",
       "      <td>4wd</td>\n",
       "      <td>full-size</td>\n",
       "      <td>SUV</td>\n",
       "      <td>silver</td>\n",
       "      <td>1</td>\n",
       "      <td>wa</td>\n",
       "    </tr>\n",
       "    <tr>\n",
       "      <th>1</th>\n",
       "      <td>1988.0</td>\n",
       "      <td>good</td>\n",
       "      <td>8 cylinders</td>\n",
       "      <td>gas</td>\n",
       "      <td>98169.886591</td>\n",
       "      <td>clean</td>\n",
       "      <td>manual</td>\n",
       "      <td>rwd</td>\n",
       "      <td>full-size</td>\n",
       "      <td>na</td>\n",
       "      <td>na</td>\n",
       "      <td>1</td>\n",
       "      <td>or</td>\n",
       "    </tr>\n",
       "    <tr>\n",
       "      <th>2</th>\n",
       "      <td>2010.0</td>\n",
       "      <td>fair</td>\n",
       "      <td>4 cylinders</td>\n",
       "      <td>gas</td>\n",
       "      <td>98169.886591</td>\n",
       "      <td>clean</td>\n",
       "      <td>automatic</td>\n",
       "      <td>na</td>\n",
       "      <td>full-size</td>\n",
       "      <td>na</td>\n",
       "      <td>na</td>\n",
       "      <td>0</td>\n",
       "      <td>mo</td>\n",
       "    </tr>\n",
       "    <tr>\n",
       "      <th>3</th>\n",
       "      <td>2010.0</td>\n",
       "      <td>fair</td>\n",
       "      <td>4 cylinders</td>\n",
       "      <td>gas</td>\n",
       "      <td>98169.886591</td>\n",
       "      <td>clean</td>\n",
       "      <td>automatic</td>\n",
       "      <td>na</td>\n",
       "      <td>full-size</td>\n",
       "      <td>na</td>\n",
       "      <td>na</td>\n",
       "      <td>0</td>\n",
       "      <td>ca</td>\n",
       "    </tr>\n",
       "    <tr>\n",
       "      <th>4</th>\n",
       "      <td>2010.0</td>\n",
       "      <td>fair</td>\n",
       "      <td>4 cylinders</td>\n",
       "      <td>gas</td>\n",
       "      <td>98169.886591</td>\n",
       "      <td>clean</td>\n",
       "      <td>automatic</td>\n",
       "      <td>na</td>\n",
       "      <td>full-size</td>\n",
       "      <td>na</td>\n",
       "      <td>na</td>\n",
       "      <td>0</td>\n",
       "      <td>ms</td>\n",
       "    </tr>\n",
       "  </tbody>\n",
       "</table>\n",
       "</div>"
      ],
      "text/plain": [
       "     year car_condition   #cylinders fuel_type      odometer title_status  \\\n",
       "0  2018.0          fair  4 cylinders       gas  44721.000000        clean   \n",
       "1  1988.0          good  8 cylinders       gas  98169.886591        clean   \n",
       "2  2010.0          fair  4 cylinders       gas  98169.886591        clean   \n",
       "3  2010.0          fair  4 cylinders       gas  98169.886591        clean   \n",
       "4  2010.0          fair  4 cylinders       gas  98169.886591        clean   \n",
       "\n",
       "  transmission drive       size car_type car_color  image_url state  \n",
       "0    automatic   4wd  full-size      SUV    silver          1    wa  \n",
       "1       manual   rwd  full-size       na        na          1    or  \n",
       "2    automatic    na  full-size       na        na          0    mo  \n",
       "3    automatic    na  full-size       na        na          0    ca  \n",
       "4    automatic    na  full-size       na        na          0    ms  "
      ]
     },
     "execution_count": 329,
     "metadata": {},
     "output_type": "execute_result"
    }
   ],
   "source": [
    "new_df.head()"
   ]
  },
  {
   "cell_type": "code",
   "execution_count": 330,
   "metadata": {},
   "outputs": [],
   "source": [
    "d = []\n",
    "d.append(pd.get_dummies(df['car_condition'],drop_first=True))\n",
    "d.append(pd.get_dummies(df['#cylinders'],drop_first=True))\n",
    "d.append(pd.get_dummies(df['fuel_type'],drop_first=True))\n",
    "d.append(pd.get_dummies(df['title_status'],drop_first=True))\n",
    "d.append(pd.get_dummies(df['transmission'],drop_first=True))\n",
    "d.append(pd.get_dummies(df['drive'],drop_first=True))\n",
    "d.append(pd.get_dummies(df['size'],drop_first=True))\n",
    "d.append(pd.get_dummies(df['state'],drop_first=True))\n",
    "d.append(pd.get_dummies(df['car_type'],drop_first=True))\n",
    "d.append(pd.get_dummies(df['car_color'],drop_first=True))"
   ]
  },
  {
   "cell_type": "code",
   "execution_count": 331,
   "metadata": {},
   "outputs": [],
   "source": [
    "new_df = new_df.drop(['car_condition','#cylinders','fuel_type','title_status','transmission','drive','size','state','car_type','car_color'],axis=1)"
   ]
  },
  {
   "cell_type": "code",
   "execution_count": 333,
   "metadata": {},
   "outputs": [],
   "source": [
    "f_df = pd.concat( [new_df,d[0],d[1],d[2],d[3],d[4],d[5],d[6],d[7],d[8],d[9]],axis=1)"
   ]
  },
  {
   "cell_type": "code",
   "execution_count": 334,
   "metadata": {},
   "outputs": [],
   "source": [
    "sub = model.predict(f_df)"
   ]
  },
  {
   "cell_type": "code",
   "execution_count": 335,
   "metadata": {},
   "outputs": [
    {
     "data": {
      "text/plain": [
       "array([30730.67      ,  6492.94      , 12395.10183793, ...,\n",
       "       35225.18      , 14159.25653542, 12011.34457121])"
      ]
     },
     "execution_count": 335,
     "metadata": {},
     "output_type": "execute_result"
    }
   ],
   "source": [
    "sub"
   ]
  },
  {
   "cell_type": "code",
   "execution_count": 336,
   "metadata": {},
   "outputs": [],
   "source": [
    "sub = pd.DataFrame(sub)"
   ]
  },
  {
   "cell_type": "code",
   "execution_count": 338,
   "metadata": {},
   "outputs": [],
   "source": [
    "sub.to_csv('submission.csv')"
   ]
  },
  {
   "cell_type": "code",
   "execution_count": null,
   "metadata": {},
   "outputs": [],
   "source": []
  }
 ],
 "metadata": {
  "kernelspec": {
   "display_name": "Python 3",
   "language": "python",
   "name": "python3"
  },
  "language_info": {
   "codemirror_mode": {
    "name": "ipython",
    "version": 3
   },
   "file_extension": ".py",
   "mimetype": "text/x-python",
   "name": "python",
   "nbconvert_exporter": "python",
   "pygments_lexer": "ipython3",
   "version": "3.7.6"
  }
 },
 "nbformat": 4,
 "nbformat_minor": 4
}
